# Import required libraries and dependencies
import pandas as pd
import hvplot.pandas
from sklearn.cluster import KMeans
from sklearn.decomposition import PCA
from sklearn.preprocessing import StandardScaler


# Load the data into a Pandas DataFrame
df_market_data = pd.read_csv(
    "Resources/crypto_market_data.csv",
    index_col="coin_id")

# Display sample data
df_market_data.head(10)


# Generate summary statistics
df_market_data.describe()


df_market_data.info()


df_market_data.index


# Plot your data to see what's in your DataFrame
df_market_data.hvplot.line(
    width=800,
    height=400,
    rot=90
)








# Use the `StandardScaler()` module from scikit-learn to normalize the data from the CSV file
scaled = StandardScaler().fit_transform(df_market_data[["price_change_percentage_24h", "price_change_percentage_7d", "price_change_percentage_14d",\
                                                       "price_change_percentage_30d", "price_change_percentage_60d"]])



# Create a DataFrame with the scaled data
df_scaled = pd.DataFrame(df_market_data, columns=["price_change_percentage_24h", "price_change_percentage_7d", "price_change_percentage_14d",\
                                                       "price_change_percentage_30d", "price_change_percentage_60d"])

# Copy the crypto names from the original data
df_scaled['coin_id'] = df_market_data.index

# Set the coinid column as index
df_scaled = df_scaled.set_index('coin_id')

# Display sample data
df_scaled.head()








# Create a list with the number of k-values from 1 to 11
k = list(range(1, 11))


# Create an empty list to store the inertia values
inertia = []

# Create a for loop to compute the inertia with each possible value of k
# Inside the loop:
# 1. Create a KMeans model using the loop counter for the n_clusters
# 2. Fit the model to the data using `df_market_data_scaled`
# 3. Append the model.inertia_ to the inertia list
for i in k:
    model = KMeans(n_clusters=i, random_state=0, n_init='auto')
    model.fit(df_scaled)
    inertia.append(model.inertia_)



# Create a dictionary with the data to plot the Elbow curve
elbow = {
    "k": k,
    "inertia": inertia
}

# Create a DataFrame with the data to plot the Elbow curve
df_elbow = pd.DataFrame(elbow)
df_elbow.head()


# Plot a line chart with all the inertia values computed with 
# the different values of k to visually identify the optimal value for k.
elbow_plot = df_elbow.hvplot.line(x='k', y='inertia', title='Elbow Curve', xticks=k)
elbow_plot











# Initialize the K-Means model using the best value for k
# Set n_init to auto per documentation to avoid warning error
# https://scikit-learn.org/stable/modules/generated/sklearn.cluster.KMeans.html
model = KMeans(n_clusters=3, n_init='auto')



# Fit the K-Means model using the scaled data
model.fit(df_scaled)


# Predict the clusters to group the cryptocurrencies using the scaled data
crypto_clusters = model.predict(df_scaled)

# Print the resulting array of cluster values.
print(crypto_clusters)


# Create a copy of the DataFrame
df_predictions = df_scaled.copy()


# Add a new column to the DataFrame with the predicted clusters
df_predictions['crypto_clusters'] = crypto_clusters

# Display sample data
df_predictions.sample(5)


# Create a scatter plot using hvPlot by setting 
# `x="price_change_percentage_24h"` and `y="price_change_percentage_7d"`. 
# Color the graph points with the labels found using K-Means and 
# add the crypto name in the `hover_cols` parameter to identify 
# the cryptocurrency represented by each data point.
predictions_plot = df_predictions.hvplot.scatter(x='price_change_percentage_24h', y='price_change_percentage_7d',\
                                                 title='KMeans Clusters', by='crypto_clusters', hover_cols='coin_id')
predictions_plot









# Create a PCA model instance and set `n_components=3`.
pca = PCA(n_components=3)


# Use the PCA model with `fit_transform` to reduce to 
# three principal components.
crypto_pca = pca.fit_transform(df_scaled)

# View the first five rows of the DataFrame. 
crypto_pca[:5]


# Retrieve the explained variance to determine how much information 
# can be attributed to each principal component.
pca.explained_variance_ratio_





# Create a new DataFrame with the PCA data.
# Creating a DataFrame with the PCA data
df_pca = pd.DataFrame(crypto_pca, columns =['PC1','PC2','PC3'])

# Copy the crypto names from the original data
df_pca['coin_id'] = df_scaled.index

# Set the coinid column as index
df_pca = df_pca.set_index('coin_id')

# Display sample data
df_pca.head()








# Create a list with the number of k-values from 1 to 11
k = list(range(1, 11))


# Create an empty list to store the inertia values
inertia = []

# Create a for loop to compute the inertia with each possible value of k
# Inside the loop:
# 1. Create a KMeans model using the loop counter for the n_clusters
# 2. Fit the model to the data using `df_market_data_pca`
# 3. Append the model.inertia_ to the inertia list
for i in k:
    model = KMeans(n_clusters=i, random_state=0, n_init='auto')
    model.fit(df_pca)
    inertia.append(model.inertia_)


# Create a dictionary with the data to plot the Elbow curve
elbow_pca = {
    "k": k,
    "inertia": inertia
}

# Create a DataFrame with the data to plot the Elbow curve
df_elbow_pca = pd.DataFrame(elbow_pca)
df_elbow_pca.head()


# Plot a line chart with all the inertia values computed with 
# the different values of k to visually identify the optimal value for k.
elbow_pca_plot = df_elbow_pca.hvplot.line(x='k', y='inertia', title='Elbow Curve', xticks=k)
elbow_pca_plot








# Initialize the K-Means model using the best value for k
model = KMeans(n_clusters=3, n_init='auto')


# Fit the K-Means model using the PCA data
model.fit(df_pca)


# Predict the clusters to group the cryptocurrencies using the PCA data
pca_predictions = model.predict(df_pca)

# Print the resulting array of cluster values.
print(pca_predictions)


# Create a copy of the DataFrame with the PCA data
df_pca_predictions = df_pca.copy()

# Add a new column to the DataFrame with the predicted clusters
df_pca_predictions['crypto_clusters'] = pca_predictions

# Display sample data
df_pca_predictions.head()


# Create a scatter plot using hvPlot by setting 
# `x="PC1"` and `y="PC2"`. 
# Color the graph points with the labels found using K-Means and 
# add the crypto name in the `hover_cols` parameter to identify 
# the cryptocurrency represented by each data point.
pca_predictions_plot = df_pca_predictions.hvplot.scatter(x='PC1', y='PC2',\
                                                 title='PCA KMeans Clusters', by='crypto_clusters', hover_cols='coin_id')
pca_predictions_plot





# Composite plot to contrast the Elbow curves
comp_plot = elbow_plot + elbow_pca_plot
comp_plot


# Composite plot to contrast the clusters
composite_scatter = predictions_plot + pca_predictions_plot
composite_scatter






